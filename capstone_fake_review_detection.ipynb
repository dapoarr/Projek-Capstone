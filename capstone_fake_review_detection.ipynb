{
  "nbformat": 4,
  "nbformat_minor": 0,
  "metadata": {
    "colab": {
      "provenance": [],
      "include_colab_link": true
    },
    "kernelspec": {
      "name": "python3",
      "display_name": "Python 3"
    },
    "language_info": {
      "name": "python"
    }
  },
  "cells": [
    {
      "cell_type": "markdown",
      "metadata": {
        "id": "view-in-github",
        "colab_type": "text"
      },
      "source": [
        "<a href=\"https://colab.research.google.com/github/dapoarr/Projek-Capstone/blob/main/capstone_fake_review_detection.ipynb\" target=\"_parent\"><img src=\"https://colab.research.google.com/assets/colab-badge.svg\" alt=\"Open In Colab\"/></a>"
      ]
    },
    {
      "cell_type": "markdown",
      "source": [
        "Deteksi Ulasan Palsu pada Aplikasi Mobile menggunakan Machine Learning\n",
        "\n"
      ],
      "metadata": {
        "id": "M0QkQb12boOH"
      }
    },
    {
      "cell_type": "markdown",
      "source": [
        "Ulasan pengguna di platform seperti Google Play Store sering digunakan calon pengguna untuk menentukan apakah suatu aplikasi layak diunduh atau tidak. Namun, banyaknya ulasan palsu menyebabkan bias penilaian. Proyek ini bertujuan untuk membangun model machine learning yang dapat mendeteksi apakah sebuah ulasan itu asli atau palsu.\n"
      ],
      "metadata": {
        "id": "8fchW_QUdwg5"
      }
    },
    {
      "cell_type": "markdown",
      "source": [
        "- Mengumpulkan ulasan aplikasi dari Google Play Store.\n",
        "- Melakukan preprocessing dan pelabelan dataset.\n",
        "- Melatih model klasifikasi untuk deteksi fake review.\n",
        "- Menyediakan API inferensi untuk pengujian ulasan.\n"
      ],
      "metadata": {
        "id": "Ov51oI7TdzPP"
      }
    },
    {
      "cell_type": "markdown",
      "source": [
        "## IMPORT LIBRARY"
      ],
      "metadata": {
        "id": "r_DgMr0rd6CY"
      }
    },
    {
      "cell_type": "code",
      "source": [
        "import pandas as pd\n",
        "import numpy as np\n",
        "import matplotlib.pyplot as plt\n",
        "import seaborn as sns\n",
        "import re\n",
        "import string\n",
        "\n",
        "from sklearn.model_selection import train_test_split\n",
        "from sklearn.feature_extraction.text import TfidfVectorizer\n",
        "from sklearn.linear_model import LogisticRegression\n",
        "from sklearn.naive_bayes import MultinomialNB\n",
        "from sklearn.ensemble import RandomForestClassifier\n",
        "from sklearn.metrics import classification_report, accuracy_score, confusion_matrix\n",
        "\n",
        "\n",
        "import joblib\n"
      ],
      "metadata": {
        "id": "ehf3N7hIdwOw"
      },
      "execution_count": null,
      "outputs": []
    },
    {
      "cell_type": "markdown",
      "source": [
        "## 1. Akuisisi Data\n",
        "\n",
        "Pada tahap ini, data ulasan akan dikumpulkan dari Google Play Store menggunakan `google-play-scraper`. Target awal adalah aplikasi `AdaKami-Pinjaman Uang Digital`. Data yang dikumpulkan mencakup isi ulasan dan skor rating dari pengguna.\n"
      ],
      "metadata": {
        "id": "g5NKyNpuexr_"
      }
    },
    {
      "cell_type": "code",
      "source": [
        "!pip install google_play_scraper"
      ],
      "metadata": {
        "id": "Tt3ltvORL030"
      },
      "execution_count": null,
      "outputs": []
    },
    {
      "cell_type": "code",
      "source": [
        "# Import\n",
        "from google_play_scraper import reviews, Sort\n",
        "\n",
        "app_id = 'com.adakami.dana.kredit.pinjaman'\n",
        "\n",
        "all_reviews = []\n",
        "count = 0\n",
        "limit = 11000  # jumlah ulasan yang diinginkan\n",
        "\n",
        "while len(all_reviews) < limit:\n",
        "    result, _ = reviews(\n",
        "        app_id,\n",
        "        lang='id',  # bahasa Indonesia\n",
        "        country='id',  # dari Indonesia\n",
        "        sort=Sort.NEWEST,\n",
        "        count=500,  # ambil per batch\n",
        "        filter_score_with=None\n",
        "    )\n",
        "    all_reviews.extend(result)\n",
        "    count += 1\n",
        "    print(f\"Batch {count}: {len(all_reviews)} total reviews\")\n",
        "\n",
        "# Simpan dalam DataFrame\n",
        "df = pd.DataFrame(all_reviews)\n",
        "df = df[['content', 'score']]  # ambil kolom ulasan dan rating\n",
        "df.columns = ['review', 'rating']\n",
        "\n",
        "# Simpan ke CSV\n",
        "df.to_csv('ulasan_adakami.csv', index=False)\n",
        "df.head()"
      ],
      "metadata": {
        "colab": {
          "base_uri": "https://localhost:8080/",
          "height": 605
        },
        "id": "uoosp6vuhYO_",
        "outputId": "7c28e28d-58b7-4664-f47a-acedacfb8c96"
      },
      "execution_count": null,
      "outputs": [
        {
          "output_type": "stream",
          "name": "stdout",
          "text": [
            "Requirement already satisfied: google_play_scraper in /usr/local/lib/python3.11/dist-packages (1.2.7)\n",
            "Batch 1: 500 total reviews\n",
            "Batch 2: 1000 total reviews\n",
            "Batch 3: 1500 total reviews\n",
            "Batch 4: 2000 total reviews\n",
            "Batch 5: 2500 total reviews\n",
            "Batch 6: 3000 total reviews\n",
            "Batch 7: 3500 total reviews\n",
            "Batch 8: 4000 total reviews\n",
            "Batch 9: 4500 total reviews\n",
            "Batch 10: 5000 total reviews\n",
            "Batch 11: 5500 total reviews\n",
            "Batch 12: 6000 total reviews\n",
            "Batch 13: 6500 total reviews\n",
            "Batch 14: 7000 total reviews\n",
            "Batch 15: 7500 total reviews\n",
            "Batch 16: 8000 total reviews\n",
            "Batch 17: 8500 total reviews\n",
            "Batch 18: 9000 total reviews\n",
            "Batch 19: 9500 total reviews\n",
            "Batch 20: 10000 total reviews\n",
            "Batch 21: 10500 total reviews\n",
            "Batch 22: 11000 total reviews\n"
          ]
        },
        {
          "output_type": "execute_result",
          "data": {
            "text/plain": [
              "                                              review  rating\n",
              "0                                       proses cepat       5\n",
              "1  saya sudah membayar angsuran saya tapi pihak d...       1\n",
              "2                               lama proses uang nya       1\n",
              "3                               Cepat Dan Terpercaya       5\n",
              "4                                              bagus       3"
            ],
            "text/html": [
              "\n",
              "  <div id=\"df-f989f0db-4223-4a81-a5b8-772dd71c59bf\" class=\"colab-df-container\">\n",
              "    <div>\n",
              "<style scoped>\n",
              "    .dataframe tbody tr th:only-of-type {\n",
              "        vertical-align: middle;\n",
              "    }\n",
              "\n",
              "    .dataframe tbody tr th {\n",
              "        vertical-align: top;\n",
              "    }\n",
              "\n",
              "    .dataframe thead th {\n",
              "        text-align: right;\n",
              "    }\n",
              "</style>\n",
              "<table border=\"1\" class=\"dataframe\">\n",
              "  <thead>\n",
              "    <tr style=\"text-align: right;\">\n",
              "      <th></th>\n",
              "      <th>review</th>\n",
              "      <th>rating</th>\n",
              "    </tr>\n",
              "  </thead>\n",
              "  <tbody>\n",
              "    <tr>\n",
              "      <th>0</th>\n",
              "      <td>proses cepat</td>\n",
              "      <td>5</td>\n",
              "    </tr>\n",
              "    <tr>\n",
              "      <th>1</th>\n",
              "      <td>saya sudah membayar angsuran saya tapi pihak d...</td>\n",
              "      <td>1</td>\n",
              "    </tr>\n",
              "    <tr>\n",
              "      <th>2</th>\n",
              "      <td>lama proses uang nya</td>\n",
              "      <td>1</td>\n",
              "    </tr>\n",
              "    <tr>\n",
              "      <th>3</th>\n",
              "      <td>Cepat Dan Terpercaya</td>\n",
              "      <td>5</td>\n",
              "    </tr>\n",
              "    <tr>\n",
              "      <th>4</th>\n",
              "      <td>bagus</td>\n",
              "      <td>3</td>\n",
              "    </tr>\n",
              "  </tbody>\n",
              "</table>\n",
              "</div>\n",
              "    <div class=\"colab-df-buttons\">\n",
              "\n",
              "  <div class=\"colab-df-container\">\n",
              "    <button class=\"colab-df-convert\" onclick=\"convertToInteractive('df-f989f0db-4223-4a81-a5b8-772dd71c59bf')\"\n",
              "            title=\"Convert this dataframe to an interactive table.\"\n",
              "            style=\"display:none;\">\n",
              "\n",
              "  <svg xmlns=\"http://www.w3.org/2000/svg\" height=\"24px\" viewBox=\"0 -960 960 960\">\n",
              "    <path d=\"M120-120v-720h720v720H120Zm60-500h600v-160H180v160Zm220 220h160v-160H400v160Zm0 220h160v-160H400v160ZM180-400h160v-160H180v160Zm440 0h160v-160H620v160ZM180-180h160v-160H180v160Zm440 0h160v-160H620v160Z\"/>\n",
              "  </svg>\n",
              "    </button>\n",
              "\n",
              "  <style>\n",
              "    .colab-df-container {\n",
              "      display:flex;\n",
              "      gap: 12px;\n",
              "    }\n",
              "\n",
              "    .colab-df-convert {\n",
              "      background-color: #E8F0FE;\n",
              "      border: none;\n",
              "      border-radius: 50%;\n",
              "      cursor: pointer;\n",
              "      display: none;\n",
              "      fill: #1967D2;\n",
              "      height: 32px;\n",
              "      padding: 0 0 0 0;\n",
              "      width: 32px;\n",
              "    }\n",
              "\n",
              "    .colab-df-convert:hover {\n",
              "      background-color: #E2EBFA;\n",
              "      box-shadow: 0px 1px 2px rgba(60, 64, 67, 0.3), 0px 1px 3px 1px rgba(60, 64, 67, 0.15);\n",
              "      fill: #174EA6;\n",
              "    }\n",
              "\n",
              "    .colab-df-buttons div {\n",
              "      margin-bottom: 4px;\n",
              "    }\n",
              "\n",
              "    [theme=dark] .colab-df-convert {\n",
              "      background-color: #3B4455;\n",
              "      fill: #D2E3FC;\n",
              "    }\n",
              "\n",
              "    [theme=dark] .colab-df-convert:hover {\n",
              "      background-color: #434B5C;\n",
              "      box-shadow: 0px 1px 3px 1px rgba(0, 0, 0, 0.15);\n",
              "      filter: drop-shadow(0px 1px 2px rgba(0, 0, 0, 0.3));\n",
              "      fill: #FFFFFF;\n",
              "    }\n",
              "  </style>\n",
              "\n",
              "    <script>\n",
              "      const buttonEl =\n",
              "        document.querySelector('#df-f989f0db-4223-4a81-a5b8-772dd71c59bf button.colab-df-convert');\n",
              "      buttonEl.style.display =\n",
              "        google.colab.kernel.accessAllowed ? 'block' : 'none';\n",
              "\n",
              "      async function convertToInteractive(key) {\n",
              "        const element = document.querySelector('#df-f989f0db-4223-4a81-a5b8-772dd71c59bf');\n",
              "        const dataTable =\n",
              "          await google.colab.kernel.invokeFunction('convertToInteractive',\n",
              "                                                    [key], {});\n",
              "        if (!dataTable) return;\n",
              "\n",
              "        const docLinkHtml = 'Like what you see? Visit the ' +\n",
              "          '<a target=\"_blank\" href=https://colab.research.google.com/notebooks/data_table.ipynb>data table notebook</a>'\n",
              "          + ' to learn more about interactive tables.';\n",
              "        element.innerHTML = '';\n",
              "        dataTable['output_type'] = 'display_data';\n",
              "        await google.colab.output.renderOutput(dataTable, element);\n",
              "        const docLink = document.createElement('div');\n",
              "        docLink.innerHTML = docLinkHtml;\n",
              "        element.appendChild(docLink);\n",
              "      }\n",
              "    </script>\n",
              "  </div>\n",
              "\n",
              "\n",
              "    <div id=\"df-934aad1a-5115-4487-a877-17f6cf691667\">\n",
              "      <button class=\"colab-df-quickchart\" onclick=\"quickchart('df-934aad1a-5115-4487-a877-17f6cf691667')\"\n",
              "                title=\"Suggest charts\"\n",
              "                style=\"display:none;\">\n",
              "\n",
              "<svg xmlns=\"http://www.w3.org/2000/svg\" height=\"24px\"viewBox=\"0 0 24 24\"\n",
              "     width=\"24px\">\n",
              "    <g>\n",
              "        <path d=\"M19 3H5c-1.1 0-2 .9-2 2v14c0 1.1.9 2 2 2h14c1.1 0 2-.9 2-2V5c0-1.1-.9-2-2-2zM9 17H7v-7h2v7zm4 0h-2V7h2v10zm4 0h-2v-4h2v4z\"/>\n",
              "    </g>\n",
              "</svg>\n",
              "      </button>\n",
              "\n",
              "<style>\n",
              "  .colab-df-quickchart {\n",
              "      --bg-color: #E8F0FE;\n",
              "      --fill-color: #1967D2;\n",
              "      --hover-bg-color: #E2EBFA;\n",
              "      --hover-fill-color: #174EA6;\n",
              "      --disabled-fill-color: #AAA;\n",
              "      --disabled-bg-color: #DDD;\n",
              "  }\n",
              "\n",
              "  [theme=dark] .colab-df-quickchart {\n",
              "      --bg-color: #3B4455;\n",
              "      --fill-color: #D2E3FC;\n",
              "      --hover-bg-color: #434B5C;\n",
              "      --hover-fill-color: #FFFFFF;\n",
              "      --disabled-bg-color: #3B4455;\n",
              "      --disabled-fill-color: #666;\n",
              "  }\n",
              "\n",
              "  .colab-df-quickchart {\n",
              "    background-color: var(--bg-color);\n",
              "    border: none;\n",
              "    border-radius: 50%;\n",
              "    cursor: pointer;\n",
              "    display: none;\n",
              "    fill: var(--fill-color);\n",
              "    height: 32px;\n",
              "    padding: 0;\n",
              "    width: 32px;\n",
              "  }\n",
              "\n",
              "  .colab-df-quickchart:hover {\n",
              "    background-color: var(--hover-bg-color);\n",
              "    box-shadow: 0 1px 2px rgba(60, 64, 67, 0.3), 0 1px 3px 1px rgba(60, 64, 67, 0.15);\n",
              "    fill: var(--button-hover-fill-color);\n",
              "  }\n",
              "\n",
              "  .colab-df-quickchart-complete:disabled,\n",
              "  .colab-df-quickchart-complete:disabled:hover {\n",
              "    background-color: var(--disabled-bg-color);\n",
              "    fill: var(--disabled-fill-color);\n",
              "    box-shadow: none;\n",
              "  }\n",
              "\n",
              "  .colab-df-spinner {\n",
              "    border: 2px solid var(--fill-color);\n",
              "    border-color: transparent;\n",
              "    border-bottom-color: var(--fill-color);\n",
              "    animation:\n",
              "      spin 1s steps(1) infinite;\n",
              "  }\n",
              "\n",
              "  @keyframes spin {\n",
              "    0% {\n",
              "      border-color: transparent;\n",
              "      border-bottom-color: var(--fill-color);\n",
              "      border-left-color: var(--fill-color);\n",
              "    }\n",
              "    20% {\n",
              "      border-color: transparent;\n",
              "      border-left-color: var(--fill-color);\n",
              "      border-top-color: var(--fill-color);\n",
              "    }\n",
              "    30% {\n",
              "      border-color: transparent;\n",
              "      border-left-color: var(--fill-color);\n",
              "      border-top-color: var(--fill-color);\n",
              "      border-right-color: var(--fill-color);\n",
              "    }\n",
              "    40% {\n",
              "      border-color: transparent;\n",
              "      border-right-color: var(--fill-color);\n",
              "      border-top-color: var(--fill-color);\n",
              "    }\n",
              "    60% {\n",
              "      border-color: transparent;\n",
              "      border-right-color: var(--fill-color);\n",
              "    }\n",
              "    80% {\n",
              "      border-color: transparent;\n",
              "      border-right-color: var(--fill-color);\n",
              "      border-bottom-color: var(--fill-color);\n",
              "    }\n",
              "    90% {\n",
              "      border-color: transparent;\n",
              "      border-bottom-color: var(--fill-color);\n",
              "    }\n",
              "  }\n",
              "</style>\n",
              "\n",
              "      <script>\n",
              "        async function quickchart(key) {\n",
              "          const quickchartButtonEl =\n",
              "            document.querySelector('#' + key + ' button');\n",
              "          quickchartButtonEl.disabled = true;  // To prevent multiple clicks.\n",
              "          quickchartButtonEl.classList.add('colab-df-spinner');\n",
              "          try {\n",
              "            const charts = await google.colab.kernel.invokeFunction(\n",
              "                'suggestCharts', [key], {});\n",
              "          } catch (error) {\n",
              "            console.error('Error during call to suggestCharts:', error);\n",
              "          }\n",
              "          quickchartButtonEl.classList.remove('colab-df-spinner');\n",
              "          quickchartButtonEl.classList.add('colab-df-quickchart-complete');\n",
              "        }\n",
              "        (() => {\n",
              "          let quickchartButtonEl =\n",
              "            document.querySelector('#df-934aad1a-5115-4487-a877-17f6cf691667 button');\n",
              "          quickchartButtonEl.style.display =\n",
              "            google.colab.kernel.accessAllowed ? 'block' : 'none';\n",
              "        })();\n",
              "      </script>\n",
              "    </div>\n",
              "\n",
              "    </div>\n",
              "  </div>\n"
            ],
            "application/vnd.google.colaboratory.intrinsic+json": {
              "type": "dataframe",
              "variable_name": "df",
              "summary": "{\n  \"name\": \"df\",\n  \"rows\": 11000,\n  \"fields\": [\n    {\n      \"column\": \"review\",\n      \"properties\": {\n        \"dtype\": \"category\",\n        \"num_unique_values\": 408,\n        \"samples\": [\n          \"pinjol hoax pencurian data verifikasi ditolak sistem rusak bangkrut ya \\ud83d\\ude0e\\u2615\\u2615\\ud83d\\udeac\",\n          \"bisa stop berkeliaran di Wattpad? gua muak sama iklan lo disitu.\",\n          \"mntap.dan mudah prosesnya.\"\n        ],\n        \"semantic_type\": \"\",\n        \"description\": \"\"\n      }\n    },\n    {\n      \"column\": \"rating\",\n      \"properties\": {\n        \"dtype\": \"number\",\n        \"std\": 1,\n        \"min\": 1,\n        \"max\": 5,\n        \"num_unique_values\": 5,\n        \"samples\": [\n          1,\n          2,\n          3\n        ],\n        \"semantic_type\": \"\",\n        \"description\": \"\"\n      }\n    }\n  ]\n}"
            }
          },
          "metadata": {},
          "execution_count": 9
        }
      ]
    },
    {
      "cell_type": "markdown",
      "source": [
        "## 2. Pra-pemrosesan Data\n",
        "\n",
        "Tahap ini bertujuan untuk membersihkan data teks dari karakter yang tidak diperlukan, mengubah huruf menjadi huruf kecil, menghapus simbol, angka, dan stopwords agar siap digunakan dalam proses analisis sentimen. Kami menggunakan bahasa Indonesia sehingga kami juga akan menggunakan stopwords bahasa Indonesia.\n"
      ],
      "metadata": {
        "id": "1mbmptC1Lavf"
      }
    },
    {
      "cell_type": "code",
      "source": [
        "!pip install Sastrawi"
      ],
      "metadata": {
        "colab": {
          "base_uri": "https://localhost:8080/"
        },
        "id": "r6-b28bgL9my",
        "outputId": "63390512-5db9-4f91-e9b1-879e0f2ee81b"
      },
      "execution_count": null,
      "outputs": [
        {
          "output_type": "stream",
          "name": "stdout",
          "text": [
            "Requirement already satisfied: Sastrawi in /usr/local/lib/python3.11/dist-packages (1.0.1)\n"
          ]
        }
      ]
    },
    {
      "cell_type": "code",
      "source": [
        "from Sastrawi.StopWordRemover.StopWordRemoverFactory import StopWordRemoverFactory\n",
        "\n",
        "# Load data\n",
        "df = pd.read_csv('ulasan_adakami.csv')\n",
        "\n",
        "# Inisialisasi stopwords bahasa Indonesia\n",
        "factory = StopWordRemoverFactory()\n",
        "stopwords_ind = factory.get_stop_words()\n",
        "\n",
        "# Fungsi untuk preprocessing\n",
        "def clean_text(text):\n",
        "    # Ubah ke lowercase\n",
        "    text = text.lower()\n",
        "    # Hapus angka\n",
        "    text = re.sub(r'\\d+', '', text)\n",
        "    # Hapus tanda baca\n",
        "    text = text.translate(str.maketrans('', '', string.punctuation))\n",
        "    # Hapus whitespace\n",
        "    text = text.strip()\n",
        "    # Hapus stopwords\n",
        "    text = ' '.join([word for word in text.split() if word not in stopwords_ind])\n",
        "    return text\n",
        "\n",
        "# Terapkan fungsi preprocessing\n",
        "df['clean_review'] = df['review'].astype(str).apply(clean_text)\n",
        "\n",
        "# Lihat hasil awal\n",
        "df[['review', 'clean_review', 'rating']].head()\n"
      ],
      "metadata": {
        "colab": {
          "base_uri": "https://localhost:8080/",
          "height": 206
        },
        "id": "idqd24HdKtx1",
        "outputId": "41a55756-03ec-4b9d-9740-b98029358d59"
      },
      "execution_count": null,
      "outputs": [
        {
          "output_type": "execute_result",
          "data": {
            "text/plain": [
              "                                              review  \\\n",
              "0                                       proses cepat   \n",
              "1  saya sudah membayar angsuran saya tapi pihak d...   \n",
              "2                               lama proses uang nya   \n",
              "3                               Cepat Dan Terpercaya   \n",
              "4                                              bagus   \n",
              "\n",
              "                                        clean_review  rating  \n",
              "0                                       proses cepat       5  \n",
              "1  membayar angsuran pihak debt collector menghap...       1  \n",
              "2                               lama proses uang nya       1  \n",
              "3                                   cepat terpercaya       5  \n",
              "4                                              bagus       3  "
            ],
            "text/html": [
              "\n",
              "  <div id=\"df-56ea60f1-c124-4bab-93dd-b50ea521db27\" class=\"colab-df-container\">\n",
              "    <div>\n",
              "<style scoped>\n",
              "    .dataframe tbody tr th:only-of-type {\n",
              "        vertical-align: middle;\n",
              "    }\n",
              "\n",
              "    .dataframe tbody tr th {\n",
              "        vertical-align: top;\n",
              "    }\n",
              "\n",
              "    .dataframe thead th {\n",
              "        text-align: right;\n",
              "    }\n",
              "</style>\n",
              "<table border=\"1\" class=\"dataframe\">\n",
              "  <thead>\n",
              "    <tr style=\"text-align: right;\">\n",
              "      <th></th>\n",
              "      <th>review</th>\n",
              "      <th>clean_review</th>\n",
              "      <th>rating</th>\n",
              "    </tr>\n",
              "  </thead>\n",
              "  <tbody>\n",
              "    <tr>\n",
              "      <th>0</th>\n",
              "      <td>proses cepat</td>\n",
              "      <td>proses cepat</td>\n",
              "      <td>5</td>\n",
              "    </tr>\n",
              "    <tr>\n",
              "      <th>1</th>\n",
              "      <td>saya sudah membayar angsuran saya tapi pihak d...</td>\n",
              "      <td>membayar angsuran pihak debt collector menghap...</td>\n",
              "      <td>1</td>\n",
              "    </tr>\n",
              "    <tr>\n",
              "      <th>2</th>\n",
              "      <td>lama proses uang nya</td>\n",
              "      <td>lama proses uang nya</td>\n",
              "      <td>1</td>\n",
              "    </tr>\n",
              "    <tr>\n",
              "      <th>3</th>\n",
              "      <td>Cepat Dan Terpercaya</td>\n",
              "      <td>cepat terpercaya</td>\n",
              "      <td>5</td>\n",
              "    </tr>\n",
              "    <tr>\n",
              "      <th>4</th>\n",
              "      <td>bagus</td>\n",
              "      <td>bagus</td>\n",
              "      <td>3</td>\n",
              "    </tr>\n",
              "  </tbody>\n",
              "</table>\n",
              "</div>\n",
              "    <div class=\"colab-df-buttons\">\n",
              "\n",
              "  <div class=\"colab-df-container\">\n",
              "    <button class=\"colab-df-convert\" onclick=\"convertToInteractive('df-56ea60f1-c124-4bab-93dd-b50ea521db27')\"\n",
              "            title=\"Convert this dataframe to an interactive table.\"\n",
              "            style=\"display:none;\">\n",
              "\n",
              "  <svg xmlns=\"http://www.w3.org/2000/svg\" height=\"24px\" viewBox=\"0 -960 960 960\">\n",
              "    <path d=\"M120-120v-720h720v720H120Zm60-500h600v-160H180v160Zm220 220h160v-160H400v160Zm0 220h160v-160H400v160ZM180-400h160v-160H180v160Zm440 0h160v-160H620v160ZM180-180h160v-160H180v160Zm440 0h160v-160H620v160Z\"/>\n",
              "  </svg>\n",
              "    </button>\n",
              "\n",
              "  <style>\n",
              "    .colab-df-container {\n",
              "      display:flex;\n",
              "      gap: 12px;\n",
              "    }\n",
              "\n",
              "    .colab-df-convert {\n",
              "      background-color: #E8F0FE;\n",
              "      border: none;\n",
              "      border-radius: 50%;\n",
              "      cursor: pointer;\n",
              "      display: none;\n",
              "      fill: #1967D2;\n",
              "      height: 32px;\n",
              "      padding: 0 0 0 0;\n",
              "      width: 32px;\n",
              "    }\n",
              "\n",
              "    .colab-df-convert:hover {\n",
              "      background-color: #E2EBFA;\n",
              "      box-shadow: 0px 1px 2px rgba(60, 64, 67, 0.3), 0px 1px 3px 1px rgba(60, 64, 67, 0.15);\n",
              "      fill: #174EA6;\n",
              "    }\n",
              "\n",
              "    .colab-df-buttons div {\n",
              "      margin-bottom: 4px;\n",
              "    }\n",
              "\n",
              "    [theme=dark] .colab-df-convert {\n",
              "      background-color: #3B4455;\n",
              "      fill: #D2E3FC;\n",
              "    }\n",
              "\n",
              "    [theme=dark] .colab-df-convert:hover {\n",
              "      background-color: #434B5C;\n",
              "      box-shadow: 0px 1px 3px 1px rgba(0, 0, 0, 0.15);\n",
              "      filter: drop-shadow(0px 1px 2px rgba(0, 0, 0, 0.3));\n",
              "      fill: #FFFFFF;\n",
              "    }\n",
              "  </style>\n",
              "\n",
              "    <script>\n",
              "      const buttonEl =\n",
              "        document.querySelector('#df-56ea60f1-c124-4bab-93dd-b50ea521db27 button.colab-df-convert');\n",
              "      buttonEl.style.display =\n",
              "        google.colab.kernel.accessAllowed ? 'block' : 'none';\n",
              "\n",
              "      async function convertToInteractive(key) {\n",
              "        const element = document.querySelector('#df-56ea60f1-c124-4bab-93dd-b50ea521db27');\n",
              "        const dataTable =\n",
              "          await google.colab.kernel.invokeFunction('convertToInteractive',\n",
              "                                                    [key], {});\n",
              "        if (!dataTable) return;\n",
              "\n",
              "        const docLinkHtml = 'Like what you see? Visit the ' +\n",
              "          '<a target=\"_blank\" href=https://colab.research.google.com/notebooks/data_table.ipynb>data table notebook</a>'\n",
              "          + ' to learn more about interactive tables.';\n",
              "        element.innerHTML = '';\n",
              "        dataTable['output_type'] = 'display_data';\n",
              "        await google.colab.output.renderOutput(dataTable, element);\n",
              "        const docLink = document.createElement('div');\n",
              "        docLink.innerHTML = docLinkHtml;\n",
              "        element.appendChild(docLink);\n",
              "      }\n",
              "    </script>\n",
              "  </div>\n",
              "\n",
              "\n",
              "    <div id=\"df-c943e634-b9a9-4d20-8d7b-3461918b7081\">\n",
              "      <button class=\"colab-df-quickchart\" onclick=\"quickchart('df-c943e634-b9a9-4d20-8d7b-3461918b7081')\"\n",
              "                title=\"Suggest charts\"\n",
              "                style=\"display:none;\">\n",
              "\n",
              "<svg xmlns=\"http://www.w3.org/2000/svg\" height=\"24px\"viewBox=\"0 0 24 24\"\n",
              "     width=\"24px\">\n",
              "    <g>\n",
              "        <path d=\"M19 3H5c-1.1 0-2 .9-2 2v14c0 1.1.9 2 2 2h14c1.1 0 2-.9 2-2V5c0-1.1-.9-2-2-2zM9 17H7v-7h2v7zm4 0h-2V7h2v10zm4 0h-2v-4h2v4z\"/>\n",
              "    </g>\n",
              "</svg>\n",
              "      </button>\n",
              "\n",
              "<style>\n",
              "  .colab-df-quickchart {\n",
              "      --bg-color: #E8F0FE;\n",
              "      --fill-color: #1967D2;\n",
              "      --hover-bg-color: #E2EBFA;\n",
              "      --hover-fill-color: #174EA6;\n",
              "      --disabled-fill-color: #AAA;\n",
              "      --disabled-bg-color: #DDD;\n",
              "  }\n",
              "\n",
              "  [theme=dark] .colab-df-quickchart {\n",
              "      --bg-color: #3B4455;\n",
              "      --fill-color: #D2E3FC;\n",
              "      --hover-bg-color: #434B5C;\n",
              "      --hover-fill-color: #FFFFFF;\n",
              "      --disabled-bg-color: #3B4455;\n",
              "      --disabled-fill-color: #666;\n",
              "  }\n",
              "\n",
              "  .colab-df-quickchart {\n",
              "    background-color: var(--bg-color);\n",
              "    border: none;\n",
              "    border-radius: 50%;\n",
              "    cursor: pointer;\n",
              "    display: none;\n",
              "    fill: var(--fill-color);\n",
              "    height: 32px;\n",
              "    padding: 0;\n",
              "    width: 32px;\n",
              "  }\n",
              "\n",
              "  .colab-df-quickchart:hover {\n",
              "    background-color: var(--hover-bg-color);\n",
              "    box-shadow: 0 1px 2px rgba(60, 64, 67, 0.3), 0 1px 3px 1px rgba(60, 64, 67, 0.15);\n",
              "    fill: var(--button-hover-fill-color);\n",
              "  }\n",
              "\n",
              "  .colab-df-quickchart-complete:disabled,\n",
              "  .colab-df-quickchart-complete:disabled:hover {\n",
              "    background-color: var(--disabled-bg-color);\n",
              "    fill: var(--disabled-fill-color);\n",
              "    box-shadow: none;\n",
              "  }\n",
              "\n",
              "  .colab-df-spinner {\n",
              "    border: 2px solid var(--fill-color);\n",
              "    border-color: transparent;\n",
              "    border-bottom-color: var(--fill-color);\n",
              "    animation:\n",
              "      spin 1s steps(1) infinite;\n",
              "  }\n",
              "\n",
              "  @keyframes spin {\n",
              "    0% {\n",
              "      border-color: transparent;\n",
              "      border-bottom-color: var(--fill-color);\n",
              "      border-left-color: var(--fill-color);\n",
              "    }\n",
              "    20% {\n",
              "      border-color: transparent;\n",
              "      border-left-color: var(--fill-color);\n",
              "      border-top-color: var(--fill-color);\n",
              "    }\n",
              "    30% {\n",
              "      border-color: transparent;\n",
              "      border-left-color: var(--fill-color);\n",
              "      border-top-color: var(--fill-color);\n",
              "      border-right-color: var(--fill-color);\n",
              "    }\n",
              "    40% {\n",
              "      border-color: transparent;\n",
              "      border-right-color: var(--fill-color);\n",
              "      border-top-color: var(--fill-color);\n",
              "    }\n",
              "    60% {\n",
              "      border-color: transparent;\n",
              "      border-right-color: var(--fill-color);\n",
              "    }\n",
              "    80% {\n",
              "      border-color: transparent;\n",
              "      border-right-color: var(--fill-color);\n",
              "      border-bottom-color: var(--fill-color);\n",
              "    }\n",
              "    90% {\n",
              "      border-color: transparent;\n",
              "      border-bottom-color: var(--fill-color);\n",
              "    }\n",
              "  }\n",
              "</style>\n",
              "\n",
              "      <script>\n",
              "        async function quickchart(key) {\n",
              "          const quickchartButtonEl =\n",
              "            document.querySelector('#' + key + ' button');\n",
              "          quickchartButtonEl.disabled = true;  // To prevent multiple clicks.\n",
              "          quickchartButtonEl.classList.add('colab-df-spinner');\n",
              "          try {\n",
              "            const charts = await google.colab.kernel.invokeFunction(\n",
              "                'suggestCharts', [key], {});\n",
              "          } catch (error) {\n",
              "            console.error('Error during call to suggestCharts:', error);\n",
              "          }\n",
              "          quickchartButtonEl.classList.remove('colab-df-spinner');\n",
              "          quickchartButtonEl.classList.add('colab-df-quickchart-complete');\n",
              "        }\n",
              "        (() => {\n",
              "          let quickchartButtonEl =\n",
              "            document.querySelector('#df-c943e634-b9a9-4d20-8d7b-3461918b7081 button');\n",
              "          quickchartButtonEl.style.display =\n",
              "            google.colab.kernel.accessAllowed ? 'block' : 'none';\n",
              "        })();\n",
              "      </script>\n",
              "    </div>\n",
              "\n",
              "    </div>\n",
              "  </div>\n"
            ],
            "application/vnd.google.colaboratory.intrinsic+json": {
              "type": "dataframe",
              "summary": "{\n  \"name\": \"df[['review', 'clean_review', 'rating']]\",\n  \"rows\": 5,\n  \"fields\": [\n    {\n      \"column\": \"review\",\n      \"properties\": {\n        \"dtype\": \"string\",\n        \"num_unique_values\": 5,\n        \"samples\": [\n          \"saya sudah membayar angsuran saya tapi pihak debt collector anda tidak menghapuskan koment di instagram perusahaan saya, ini saya bisa tuntut ya adakami\",\n          \"bagus\",\n          \"lama proses uang nya\"\n        ],\n        \"semantic_type\": \"\",\n        \"description\": \"\"\n      }\n    },\n    {\n      \"column\": \"clean_review\",\n      \"properties\": {\n        \"dtype\": \"string\",\n        \"num_unique_values\": 5,\n        \"samples\": [\n          \"membayar angsuran pihak debt collector menghapuskan koment instagram perusahaan tuntut adakami\",\n          \"bagus\",\n          \"lama proses uang nya\"\n        ],\n        \"semantic_type\": \"\",\n        \"description\": \"\"\n      }\n    },\n    {\n      \"column\": \"rating\",\n      \"properties\": {\n        \"dtype\": \"number\",\n        \"std\": 2,\n        \"min\": 1,\n        \"max\": 5,\n        \"num_unique_values\": 3,\n        \"samples\": [\n          5,\n          1,\n          3\n        ],\n        \"semantic_type\": \"\",\n        \"description\": \"\"\n      }\n    }\n  ]\n}"
            }
          },
          "metadata": {},
          "execution_count": 11
        }
      ]
    },
    {
      "cell_type": "markdown",
      "source": [
        "### Hasil Preprocessing\n",
        "\n",
        "Tabel berikut menunjukkan perbandingan antara ulasan asli dan ulasan yang telah dibersihkan. Terlihat bahwa proses pembersihan teks menghilangkan angka, simbol, serta stopwords dalam bahasa Indonesia agar lebih fokus pada kata-kata penting untuk analisis sentimen.\n"
      ],
      "metadata": {
        "id": "33LxZOMZMOQI"
      }
    },
    {
      "cell_type": "markdown",
      "source": [
        "## 3. Labeling Data Sentimen\n",
        "\n",
        "Labeling dilakukan berdasarkan skor `rating` yang diberikan oleh pengguna terhadap aplikasi. Rentang penilaian antara 1 sampai 5 akan dikonversi menjadi 3 kelas sentimen:\n",
        "- **1 dan 2** = Negatif (-1)\n",
        "- **3**       = Netral (0)\n",
        "- **4 dan 5** = Positif (1)\n",
        "\n",
        "Label ini akan menjadi target (y) untuk model klasifikasi di tahap berikutnya.\n"
      ],
      "metadata": {
        "id": "wac0jrXEMaGp"
      }
    },
    {
      "cell_type": "code",
      "source": [
        "# Fungsi untuk mengubah rating menjadi label sentimen\n",
        "def rating_to_sentiment(score):\n",
        "    if score in [1, 2]:\n",
        "        return -1  # Negatif\n",
        "    elif score == 3:\n",
        "        return 0   # Netral\n",
        "    else:\n",
        "        return 1   # Positif\n",
        "\n",
        "# Terapkan ke kolom baru\n",
        "df['sentiment'] = df['rating'].apply(rating_to_sentiment)\n",
        "\n",
        "# Lihat distribusi label\n",
        "df['sentiment'].value_counts()\n"
      ],
      "metadata": {
        "colab": {
          "base_uri": "https://localhost:8080/",
          "height": 209
        },
        "id": "oDdUHbDQMPux",
        "outputId": "220d2742-a570-4aa0-a289-fe3e59ef0abf"
      },
      "execution_count": null,
      "outputs": [
        {
          "output_type": "execute_result",
          "data": {
            "text/plain": [
              "sentiment\n",
              " 1    7788\n",
              "-1    2882\n",
              " 0     330\n",
              "Name: count, dtype: int64"
            ],
            "text/html": [
              "<div>\n",
              "<style scoped>\n",
              "    .dataframe tbody tr th:only-of-type {\n",
              "        vertical-align: middle;\n",
              "    }\n",
              "\n",
              "    .dataframe tbody tr th {\n",
              "        vertical-align: top;\n",
              "    }\n",
              "\n",
              "    .dataframe thead th {\n",
              "        text-align: right;\n",
              "    }\n",
              "</style>\n",
              "<table border=\"1\" class=\"dataframe\">\n",
              "  <thead>\n",
              "    <tr style=\"text-align: right;\">\n",
              "      <th></th>\n",
              "      <th>count</th>\n",
              "    </tr>\n",
              "    <tr>\n",
              "      <th>sentiment</th>\n",
              "      <th></th>\n",
              "    </tr>\n",
              "  </thead>\n",
              "  <tbody>\n",
              "    <tr>\n",
              "      <th>1</th>\n",
              "      <td>7788</td>\n",
              "    </tr>\n",
              "    <tr>\n",
              "      <th>-1</th>\n",
              "      <td>2882</td>\n",
              "    </tr>\n",
              "    <tr>\n",
              "      <th>0</th>\n",
              "      <td>330</td>\n",
              "    </tr>\n",
              "  </tbody>\n",
              "</table>\n",
              "</div><br><label><b>dtype:</b> int64</label>"
            ]
          },
          "metadata": {},
          "execution_count": 12
        }
      ]
    },
    {
      "cell_type": "markdown",
      "source": [
        "### Distribusi Sentimen\n",
        "\n",
        "Distribusi label hasil konversi rating ke sentimen ditampilkan sebagai berikut. Ini penting untuk mengetahui apakah data seimbang atau tidak antar kelas (positif, netral, negatif).\n"
      ],
      "metadata": {
        "id": "QeRzxDWAMjA8"
      }
    },
    {
      "cell_type": "code",
      "source": [
        "plt.figure(figsize=(6,4))\n",
        "sns.countplot(data=df, x='sentiment', palette='Set2')\n",
        "plt.title(\"Distribusi Label Sentimen\")\n",
        "plt.xlabel(\"Sentimen (-1 = Negatif, 0 = Netral, 1 = Positif)\")\n",
        "plt.ylabel(\"Jumlah Ulasan\")\n",
        "plt.grid(axis='y')\n",
        "plt.show()\n"
      ],
      "metadata": {
        "colab": {
          "base_uri": "https://localhost:8080/",
          "height": 517
        },
        "id": "2Xotp_kxMkvQ",
        "outputId": "734d932e-2978-4b88-c4f3-20b93f14d8f5"
      },
      "execution_count": null,
      "outputs": [
        {
          "output_type": "stream",
          "name": "stderr",
          "text": [
            "<ipython-input-13-e0d688f08faa>:2: FutureWarning: \n",
            "\n",
            "Passing `palette` without assigning `hue` is deprecated and will be removed in v0.14.0. Assign the `x` variable to `hue` and set `legend=False` for the same effect.\n",
            "\n",
            "  sns.countplot(data=df, x='sentiment', palette='Set2')\n"
          ]
        },
        {
          "output_type": "display_data",
          "data": {
            "text/plain": [
              "<Figure size 600x400 with 1 Axes>"
            ],
            "image/png": "[encoded data removed]"
          },
          "metadata": {}
        }
      ]
    },
    {
      "cell_type": "markdown",
      "source": [
        "## 4. Ekstraksi Fitur dengan TF-IDF\n",
        "\n",
        "TF-IDF (Term Frequency - Inverse Document Frequency) adalah metode untuk merepresentasikan teks ke dalam bentuk vektor numerik berdasarkan seberapa penting kata tersebut dalam dokumen.\n",
        "\n",
        "Semakin sering sebuah kata muncul dalam dokumen tertentu, dan semakin jarang kata tersebut muncul di dokumen lain, maka nilainya akan semakin tinggi.\n",
        "\n",
        "Hasil dari TF-IDF ini akan menjadi fitur yang digunakan sebagai input untuk model klasifikasi.\n"
      ],
      "metadata": {
        "id": "4NdtlfIkMxGJ"
      }
    },
    {
      "cell_type": "code",
      "source": [
        "# Inisialisasi vectorizer\n",
        "tfidf = TfidfVectorizer(max_features=5000)  # Bisa disesuaikan jumlah fiturnya\n",
        "\n",
        "# Transformasi teks ke vektor TF-IDF\n",
        "X = tfidf.fit_transform(df['review'])\n",
        "\n",
        "# Target\n",
        "y = df['sentiment']\n",
        "\n",
        "# Tampilkan bentuk dari hasil transformasi\n",
        "print(\"Shape fitur TF-IDF:\", X.shape)\n"
      ],
      "metadata": {
        "colab": {
          "base_uri": "https://localhost:8080/"
        },
        "id": "JxVoIhkqMxu8",
        "outputId": "17c8aa44-b1c0-402b-8a0f-8c0539abaf51"
      },
      "execution_count": null,
      "outputs": [
        {
          "output_type": "stream",
          "name": "stdout",
          "text": [
            "Shape fitur TF-IDF: (11000, 1118)\n"
          ]
        }
      ]
    },
    {
      "cell_type": "markdown",
      "source": [
        "## 5. Pembuatan dan Evaluasi Model Machine Learning\n",
        "\n",
        "Model klasifikasi digunakan untuk memprediksi sentimen dari ulasan pengguna aplikasi berdasarkan representasi numerik hasil TF-IDF.\n",
        "\n",
        "Langkah-langkah:\n",
        "1. Membagi data menjadi data latih dan data uji (train-test split).\n",
        "2. Melatih model klasifikasi seperti Logistic Regression dan Multinomial Naive Bayes.\n",
        "3. Mengukur performa model dengan metrik seperti akurasi, precision, recall, dan f1-score.\n"
      ],
      "metadata": {
        "id": "pEJMGMOSM_DI"
      }
    },
    {
      "cell_type": "code",
      "source": [
        "# Split data menjadi train dan test\n",
        "X_train, X_test, y_train, y_test = train_test_split(X, y, test_size=0.2, random_state=42)\n",
        "\n",
        "# Inisialisasi dan latih model\n",
        "logreg = LogisticRegression(max_iter=1000)\n",
        "nb = MultinomialNB()\n",
        "\n",
        "logreg.fit(X_train, y_train)\n",
        "nb.fit(X_train, y_train)\n",
        "\n",
        "# Prediksi\n",
        "y_pred_logreg = logreg.predict(X_test)\n",
        "y_pred_nb = nb.predict(X_test)\n",
        "\n",
        "# Evaluasi model\n",
        "print(\"=== Logistic Regression ===\")\n",
        "print(classification_report(y_test, y_pred_logreg))\n",
        "print(\"Akurasi:\", accuracy_score(y_test, y_pred_logreg))\n",
        "\n",
        "print(\"\\n=== Multinomial Naive Bayes ===\")\n",
        "print(classification_report(y_test, y_pred_nb))\n",
        "print(\"Akurasi:\", accuracy_score(y_test, y_pred_nb))\n"
      ],
      "metadata": {
        "colab": {
          "base_uri": "https://localhost:8080/"
        },
        "id": "griFt2xtM_kM",
        "outputId": "11e37014-6b9b-4c23-d7ad-a21986077a3e"
      },
      "execution_count": null,
      "outputs": [
        {
          "output_type": "stream",
          "name": "stdout",
          "text": [
            "=== Logistic Regression ===\n",
            "              precision    recall  f1-score   support\n",
            "\n",
            "          -1       1.00      0.96      0.98       566\n",
            "           0       1.00      0.90      0.95        58\n",
            "           1       0.98      1.00      0.99      1576\n",
            "\n",
            "    accuracy                           0.99      2200\n",
            "   macro avg       0.99      0.95      0.97      2200\n",
            "weighted avg       0.99      0.99      0.99      2200\n",
            "\n",
            "Akurasi: 0.9881818181818182\n",
            "\n",
            "=== Multinomial Naive Bayes ===\n",
            "              precision    recall  f1-score   support\n",
            "\n",
            "          -1       0.98      0.95      0.97       566\n",
            "           0       1.00      0.71      0.83        58\n",
            "           1       0.97      0.99      0.98      1576\n",
            "\n",
            "    accuracy                           0.98      2200\n",
            "   macro avg       0.98      0.88      0.93      2200\n",
            "weighted avg       0.98      0.98      0.97      2200\n",
            "\n",
            "Akurasi: 0.9754545454545455\n"
          ]
        }
      ]
    },
    {
      "cell_type": "markdown",
      "source": [
        "## 6. Penyimpanan Model Final\n",
        "\n",
        "Model yang telah dilatih akan disimpan ke dalam file dengan format `.pkl` menggunakan library `joblib`. Penyimpanan ini memungkinkan model digunakan kembali tanpa perlu pelatihan ulang, terutama saat digunakan dalam proses deployment pada backend (API).\n"
      ],
      "metadata": {
        "id": "ah0jQkb8NYEj"
      }
    },
    {
      "cell_type": "code",
      "source": [
        "import joblib\n",
        "\n",
        "# Simpan model dan vectorizer ke dalam file\n",
        "joblib.dump(logreg, 'model_sentimen_logreg.pkl')\n",
        "joblib.dump(tfidf, 'tfidf_vectorizer.pkl')"
      ],
      "metadata": {
        "colab": {
          "base_uri": "https://localhost:8080/"
        },
        "id": "pywM_LV1NYiY",
        "outputId": "090c1034-54a9-4324-ef47-91bca680c6d4"
      },
      "execution_count": null,
      "outputs": [
        {
          "output_type": "execute_result",
          "data": {
            "text/plain": [
              "['tfidf_vectorizer.pkl']"
            ]
          },
          "metadata": {},
          "execution_count": 18
        }
      ]
    },
    {
      "cell_type": "markdown",
      "source": [
        "## 7. Fungsi Inferensi (Prediksi Sentimen)\n",
        "\n",
        "Setelah model dan vectorizer disimpan, dibuat fungsi inferensi sederhana untuk memprediksi sentimen dari input teks. Fungsi ini akan mengambil input kalimat, melakukan transformasi TF-IDF, lalu memprediksi kelas menggunakan model klasifikasi.\n"
      ],
      "metadata": {
        "id": "o5wHZEntNvlq"
      }
    },
    {
      "cell_type": "code",
      "source": [
        "# Fungsi prediksi sentimen\n",
        "def prediksi_sentimen(teks):\n",
        "    # Load model dan vectorizer jika belum ada di memori\n",
        "    model = joblib.load('model_sentimen_logreg.pkl')\n",
        "    vectorizer = joblib.load('tfidf_vectorizer.pkl')\n",
        "\n",
        "    # Transformasi input teks\n",
        "    teks_vectorized = vectorizer.transform([teks])\n",
        "\n",
        "    # Prediksi\n",
        "    prediksi = model.predict(teks_vectorized)[0]\n",
        "\n",
        "    # Label interpretasi\n",
        "    if prediksi == 1:\n",
        "        hasil = \"Positif\"\n",
        "    else:\n",
        "        hasil = \"Negatif\"\n",
        "\n",
        "    return hasil\n"
      ],
      "metadata": {
        "id": "H6JNbHhpNwSK"
      },
      "execution_count": null,
      "outputs": []
    },
    {
      "cell_type": "code",
      "source": [
        "# Contoh uji coba fungsi prediksi\n",
        "contoh_ulasan = \"Aplikasinya sangat membantu dan prosesnya cepat sekali!\"\n",
        "print(f\"Ulasan: {contoh_ulasan}\")\n",
        "print(\"Prediksi Sentimen:\", prediksi_sentimen(contoh_ulasan))\n"
      ],
      "metadata": {
        "id": "rWo7V2WxN0Nf",
        "outputId": "c059b541-6cd1-4457-a9c6-0bc1b46f8283",
        "colab": {
          "base_uri": "https://localhost:8080/"
        }
      },
      "execution_count": null,
      "outputs": [
        {
          "output_type": "stream",
          "name": "stdout",
          "text": [
            "Ulasan: Aplikasinya sangat membantu dan prosesnya cepat sekali!\n",
            "Prediksi Sentimen: Positif\n"
          ]
        }
      ]
    },
    {
      "cell_type": "code",
      "source": [],
      "metadata": {
        "id": "dAaEtgf1hu3g"
      },
      "execution_count": null,
      "outputs": []
    }
  ]
}